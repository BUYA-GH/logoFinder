{
  "cells": [
    {
      "cell_type": "markdown",
      "metadata": {
        "colab_type": "text",
        "id": "view-in-github"
      },
      "source": [
        "<a href=\"https://colab.research.google.com/github/BUYA-GH/logoFinder/blob/ModelTrain/ModelTrainInColab.ipynb\" target=\"_parent\"><img src=\"https://colab.research.google.com/assets/colab-badge.svg\" alt=\"Open In Colab\"/></a>"
      ]
    },
    {
      "cell_type": "code",
      "execution_count": null,
      "metadata": {
        "colab": {
          "base_uri": "https://localhost:8080/"
        },
        "id": "2BW8Gmmbb72w",
        "outputId": "114384b8-20af-4a6f-c1e3-5d9133d0c425"
      },
      "outputs": [],
      "source": [
        "#download datasets\n",
        "!gdown https://drive.google.com/uc?id=1emy70SqOE8arizZ4XpS4wufgTQQQlngT\n",
        "!gdown https://drive.google.com/uc?id=12MXARPYp0aPikCE4QWwb8LdQbsGuM02q\n",
        "!gdown https://drive.google.com/uc?id=1BhR3U4wWeapu-jcCqjsIEI1CSMWXqlqO\n",
        "!gdown https://drive.google.com/uc?id=1ShpmnmHhzqa3sTMROyYDq3pN76wJnMUi"
      ]
    },
    {
      "cell_type": "code",
      "execution_count": 2,
      "metadata": {
        "id": "kZRZI_rEcwj7"
      },
      "outputs": [],
      "source": [
        "!unzip -qq \"/content/Det-A.zip\"\n",
        "!mv LogoDet-3K Det-A\n",
        "!unzip -qq \"/content/Det-B.zip\"\n",
        "!unzip -qq \"/content/Det-C.zip\"\n",
        "!unzip -qq \"/content/Det-D.zip\""
      ]
    },
    {
      "cell_type": "code",
      "execution_count": null,
      "metadata": {
        "colab": {
          "base_uri": "https://localhost:8080/"
        },
        "id": "vlm6_321c8T3",
        "outputId": "2209cfff-ee35-444c-d214-ef7b2d8434e9"
      },
      "outputs": [],
      "source": [
        "!git clone https://github.com/ultralytics/yolov5"
      ]
    },
    {
      "cell_type": "code",
      "execution_count": null,
      "metadata": {
        "colab": {
          "base_uri": "https://localhost:8080/"
        },
        "id": "DYoBl5FTdhAS",
        "outputId": "32e5a74f-eea8-4179-d154-6974205024cd"
      },
      "outputs": [],
      "source": [
        "%cd yolov5\n",
        "!pip install -r requirements.txt\n",
        "!pip install wandb"
      ]
    },
    {
      "cell_type": "code",
      "execution_count": null,
      "metadata": {
        "colab": {
          "base_uri": "https://localhost:8080/"
        },
        "id": "UMHBKud2AXvz",
        "outputId": "83d8b756-25a6-4f0c-d206-d9294c8fa01e"
      },
      "outputs": [],
      "source": [
        "#download yaml file\n",
        "%cd data\n",
        "!gdown https://drive.google.com/uc?id=1HoZKjpNNroM4cWI-tBwiGK738G_l01kv\n",
        "!gdown https://drive.google.com/uc?id=1tBmYJJhwaA5OcYSt50c172nIdIf9idv0\n",
        "!gdown https://drive.google.com/uc?id=1Dd24KxxK9fRKy_Mo3Hp1hXsyLxynEzL5\n",
        "!gdown https://drive.google.com/uc?id=1tMMERofW1ZkT0JQeAIFkCb_N9OEiygny\n"
      ]
    },
    {
      "cell_type": "code",
      "execution_count": null,
      "metadata": {
        "colab": {
          "base_uri": "https://localhost:8080/"
        },
        "id": "aSnekVgfKKC_",
        "outputId": "4b615971-2670-4f9d-b4d5-0735e0ca2377"
      },
      "outputs": [],
      "source": [
        "%cd /content\n",
        "!gdown https://drive.google.com/uc?id=1wjjqJHh2_L9MnjBN67rekFfJ5lgEZTDx"
      ]
    },
    {
      "cell_type": "code",
      "execution_count": null,
      "metadata": {
        "colab": {
          "base_uri": "https://localhost:8080/"
        },
        "id": "PYplqpGgdmXc",
        "outputId": "6a5c28bb-2713-44a0-d861-2b17c35e5631"
      },
      "outputs": [],
      "source": [
        "%cd /content/yolov5\n",
        "!python train.py --img 500 --batch 50 --epochs 20 --data Det-A.yaml --weights yolov5s.pt --cache"
      ]
    },
    {
      "cell_type": "code",
      "execution_count": null,
      "metadata": {
        "colab": {
          "base_uri": "https://localhost:8080/"
        },
        "id": "lEmJFs304-cH",
        "outputId": "08d16567-15fe-4f5e-ee29-0599efc4d9f9"
      },
      "outputs": [],
      "source": [
        "%cd /content/yolov5\n",
        "!python detect.py --weights runs/train/exp4/weights/last.pt --img 640 --conf 0.25 --source ../sports_test.mp4"
      ]
    }
  ],
  "metadata": {
    "accelerator": "GPU",
    "colab": {
      "authorship_tag": "ABX9TyPW8Wmo28IFjDTj/Ge5AB3Q",
      "include_colab_link": true,
      "name": "Untitled7.ipynb",
      "provenance": []
    },
    "gpuClass": "standard",
    "kernelspec": {
      "display_name": "Python 3.9.0 64-bit",
      "language": "python",
      "name": "python3"
    },
    "language_info": {
      "name": "python",
      "version": "3.9.0"
    },
    "vscode": {
      "interpreter": {
        "hash": "218a1e21be055ece6a21190b433be4a671328a03daf1d7d00c70240dca247292"
      }
    }
  },
  "nbformat": 4,
  "nbformat_minor": 0
}
